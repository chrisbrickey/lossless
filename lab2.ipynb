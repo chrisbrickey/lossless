{
 "cells": [
  {
   "cell_type": "markdown",
   "id": "28c111d9-458c-405f-a19e-ef300cebdefd",
   "metadata": {
    "panel-layout": {
     "height": 161.66796875,
     "visible": true,
     "width": 100
    }
   },
   "source": [
    "# LAB 2: Model Representation\n",
    "\n",
    "## Dependencies\n",
    "- NumPy for scientific computing\n",
    "- Matplotlib for plotting data\n",
    "- [Coffee Reviews Dataset](https://www.kaggle.com/datasets/schmoyote/coffee-reviews-dataset)"
   ]
  },
  {
   "cell_type": "markdown",
   "id": "28a0d4e1-8c9a-49dd-9951-3d4f9fe9572a",
   "metadata": {
    "panel-layout": {
     "height": 50.796875,
     "visible": true,
     "width": 100
    }
   },
   "source": [
    "## Defining Data using NumPy arrays"
   ]
  },
  {
   "cell_type": "code",
   "execution_count": 29,
   "id": "ace09bb1-01c8-4e90-a931-fed2b20bb567",
   "metadata": {
    "panel-layout": {
     "height": -0.015625,
     "visible": true,
     "width": 100
    }
   },
   "outputs": [
    {
     "name": "stdout",
     "output_type": "stream",
     "text": [
      "x_train: [95. 97.]\n",
      "y_train: [26.46 33.05]\n"
     ]
    }
   ],
   "source": [
    "import numpy as np\n",
    "import matplotlib.pyplot as plt\n",
    "\n",
    "# x_train is the input variable (user ratingof the coffee from 0 to 100)\n",
    "# y_train is the target (price in USD per 100 grams of coffee)\n",
    "x_train = np.array([95.0, 97.0]) # first review: 95 score; second review: 97 score\n",
    "y_train = np.array([26.46, 33.05]) # first review: $26.46 per 100g; second house: $33.05 per 100g\n",
    "\n",
    "print(f\"x_train: {x_train}\")\n",
    "print(f\"y_train: {y_train}\")"
   ]
  },
  {
   "cell_type": "code",
   "execution_count": 31,
   "id": "3ffdcaba-8f9a-4337-a3a9-8ad37a0f6068",
   "metadata": {
    "panel-layout": {
     "height": -0.015625,
     "visible": true,
     "width": 100
    }
   },
   "outputs": [
    {
     "name": "stdout",
     "output_type": "stream",
     "text": [
      "(2,)\n",
      "Number of training examples (m): 2\n",
      "len(numpy_array) also works: 2\n"
     ]
    }
   ],
   "source": [
    "# m is the number of training examples\n",
    "# Numpy arrays (e.g. np.array(some_array)) have the property .shape.\n",
    "# .shape returns a python tuple with an entry for each dimension\n",
    "print(x_train.shape)\n",
    "m = x_train.shape[0]\n",
    "print(f\"Number of training examples (m): {m}\")\n",
    "print(f\"len(numpy_array) also works: {len(x_train)}\")"
   ]
  },
  {
   "cell_type": "code",
   "execution_count": 35,
   "id": "6d959c25-86ff-44af-b877-99524022d99a",
   "metadata": {},
   "outputs": [
    {
     "name": "stdout",
     "output_type": "stream",
     "text": [
      "for i=0, (x^(0), y^(0)) = (95.0, 26.46)\n",
      "\n",
      "for i=1, (x^(1), y^(1)) = (97.0, 33.05)\n",
      "\n"
     ]
    }
   ],
   "source": [
    "# i is the row number of the entity being studied\n",
    "for i in range(m): \n",
    "    x_i = x_train[i]\n",
    "    y_i = y_train[i]\n",
    "    print(f\"for i={i}, (x^({i}), y^({i})) = ({x_i}, {y_i})\\n\")"
   ]
  }
 ],
 "metadata": {
  "kernelspec": {
   "display_name": "Python [conda env:base] *",
   "language": "python",
   "name": "conda-base-py"
  },
  "language_info": {
   "codemirror_mode": {
    "name": "ipython",
    "version": 3
   },
   "file_extension": ".py",
   "mimetype": "text/x-python",
   "name": "python",
   "nbconvert_exporter": "python",
   "pygments_lexer": "ipython3",
   "version": "3.12.7"
  },
  "panel-cell-order": [
   "28c111d9-458c-405f-a19e-ef300cebdefd",
   "28a0d4e1-8c9a-49dd-9951-3d4f9fe9572a",
   "ace09bb1-01c8-4e90-a931-fed2b20bb567",
   "3ffdcaba-8f9a-4337-a3a9-8ad37a0f6068"
  ]
 },
 "nbformat": 4,
 "nbformat_minor": 5
}
