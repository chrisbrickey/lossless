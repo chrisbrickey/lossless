{
 "cells": [
  {
   "cell_type": "markdown",
   "id": "b4dd21c7-9dd1-4f31-8c32-69f37eb0b7fc",
   "metadata": {},
   "source": [
    "# LAB 2: Model Representation\n",
    "\n",
    "## Dependencies\n",
    "- NumPy for scientific computing\n",
    "- Matplotlib for plotting data"
   ]
  },
  {
   "cell_type": "code",
   "execution_count": 7,
   "id": "ace09bb1-01c8-4e90-a931-fed2b20bb567",
   "metadata": {},
   "outputs": [
    {
     "name": "stdout",
     "output_type": "stream",
     "text": [
      "x_train = [1. 2.]\n",
      "y_train = [300. 500.]\n"
     ]
    }
   ],
   "source": [
    "import numpy as np\n",
    "import matplotlib.pyplot as plt\n",
    "\n",
    "# x_train is the input variable (size in 1000 square feet)\n",
    "# y_train is the target (price in 1000s of dollars)\n",
    "x_train = np.array([1.0, 2.0]) # first house: 1000 sqft; second house: 2000 sq ft\n",
    "y_train = np.array([300.0, 500.0]) # first house: $300_000; second house: $500_000\n",
    "print(f\"x_train = {x_train}\")\n",
    "print(f\"y_train = {y_train}\")"
   ]
  }
 ],
 "metadata": {
  "kernelspec": {
   "display_name": "Python [conda env:base] *",
   "language": "python",
   "name": "conda-base-py"
  },
  "language_info": {
   "codemirror_mode": {
    "name": "ipython",
    "version": 3
   },
   "file_extension": ".py",
   "mimetype": "text/x-python",
   "name": "python",
   "nbconvert_exporter": "python",
   "pygments_lexer": "ipython3",
   "version": "3.12.7"
  }
 },
 "nbformat": 4,
 "nbformat_minor": 5
}
