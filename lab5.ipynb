{
 "cells": [
  {
   "cell_type": "markdown",
   "id": "e4a0d324-7a3d-4cf4-8763-844476943284",
   "metadata": {},
   "source": [
    "# Lab 5: NumPy and Vectorization\n",
    "\n",
    "Reference: NumPy.org"
   ]
  },
  {
   "cell_type": "code",
   "execution_count": 5,
   "id": "a6cb80f2-7e21-47ea-92a8-702caf0bc596",
   "metadata": {},
   "outputs": [],
   "source": [
    "import numpy as np\n",
    "import time"
   ]
  },
  {
   "cell_type": "markdown",
   "id": "6256d10a-ff96-4a7b-a5da-a2a44a72866c",
   "metadata": {},
   "source": [
    "## Vector Creation\n",
    "\n",
    "Data creation routines in NumPy will generally have a first parameter which is the shape of the object. This can either be a single value for a 1-D result or a tuple (n,m,...) specifying the shape of the result. "
   ]
  },
  {
   "cell_type": "code",
   "execution_count": 20,
   "id": "e18dd8ca-99e7-461d-8f92-e5a99189dc8c",
   "metadata": {},
   "outputs": [
    {
     "name": "stdout",
     "output_type": "stream",
     "text": [
      "\n",
      "vector: [0. 0. 0. 0.]; shape: (4,); data type: float64\n",
      "\n",
      "vector: [0. 0. 0. 0.]; shape: (4,); data type: float64\n",
      "\n",
      "vector: [0.56005463 0.357479   0.17670795 0.73894208]; shape: (4,); data type: float64\n",
      "\n",
      "vector: [0. 1. 2. 3.]; shape: (4,); data type: float64\n",
      "\n",
      "vector: [0.7765739  0.08746815 0.41262386 0.23463003]; shape: (4,); data type: float64\n",
      "\n",
      "vector: [5 4 3 2]; shape: (4,); data type: int64\n",
      "\n",
      "vector: [5. 4. 3. 2.]; shape: (4,); data type: float64\n"
     ]
    }
   ],
   "source": [
    "some_vector = np.zeros(4)\n",
    "print(f\"\\nvector: {some_vector}; shape: {some_vector.shape}; data type: {some_vector.dtype}\")\n",
    "\n",
    "some_vector = np.zeros((4, ))\n",
    "print(f\"\\nvector: {some_vector}; shape: {some_vector.shape}; data type: {some_vector.dtype}\")\n",
    "\n",
    "some_vector = np.random.random_sample(4)\n",
    "print(f\"\\nvector: {some_vector}; shape: {some_vector.shape}; data type: {some_vector.dtype}\")\n",
    "\n",
    "some_vector = np.arange(4.)\n",
    "print(f\"\\nvector: {some_vector}; shape: {some_vector.shape}; data type: {some_vector.dtype}\")\n",
    "\n",
    "some_vector = np.random.rand(4)\n",
    "print(f\"\\nvector: {some_vector}; shape: {some_vector.shape}; data type: {some_vector.dtype}\")\n",
    "\n",
    "some_vector = np.array([5, 4, 3, 2])\n",
    "print(f\"\\nvector: {some_vector}; shape: {some_vector.shape}; data type: {some_vector.dtype}\")\n",
    "\n",
    "some_vector = np.array([5., 4, 3, 2])\n",
    "print(f\"\\nvector: {some_vector}; shape: {some_vector.shape}; data type: {some_vector.dtype}\")"
   ]
  },
  {
   "cell_type": "markdown",
   "id": "bd4990ec-2d1b-4642-95b4-20d4f1dc1771",
   "metadata": {},
   "source": [
    "## Vector Access"
   ]
  },
  {
   "cell_type": "code",
   "execution_count": 30,
   "id": "4fc64d71-3d4d-45e3-8021-ef93b86e86d8",
   "metadata": {},
   "outputs": [
    {
     "name": "stdout",
     "output_type": "stream",
     "text": [
      "vector: [0 1 2 3 4 5 6 7 8 9]\n",
      "vector shape: (10,)\n",
      "element: 2; element shape: ()\n"
     ]
    }
   ],
   "source": [
    "#vector indexing operations on 1-D vectors\n",
    "arange_vector = np.arange(10)\n",
    "print(f\"vector: {arange_vector}\")\n",
    "print(f\"vector shape: {arange_vector.shape}\")\n",
    "print(f\"element: {arange_vector[2]}; element shape: {arange_vector[2].shape}\")"
   ]
  },
  {
   "cell_type": "code",
   "execution_count": 26,
   "id": "c25c6b3e-c18c-4d8d-aeb3-0b23d8e460bc",
   "metadata": {},
   "outputs": [
    {
     "name": "stdout",
     "output_type": "stream",
     "text": [
      "full vector:[0 1 2 3 4 5 6 7 8 9]\n",
      "v[2:7:1] =  [2 3 4 5 6]\n",
      "v[2:7:2] =  [2 4 6]\n"
     ]
    }
   ],
   "source": [
    "#vector slicing operations\n",
    "v = np.arange(10)\n",
    "print(f\"full vector:{v}\")\n",
    "\n",
    "#access 5 consecutive elements (start:stop:step)\n",
    "single_step_slice = v[2:7:1]\n",
    "print(\"v[2:7:1] = \", single_step_slice)\n",
    "\n",
    "# access 3 elements separated by two \n",
    "double_step_slice = v[2:7:2]\n",
    "print(\"v[2:7:2] = \", double_step_slice)"
   ]
  },
  {
   "cell_type": "markdown",
   "id": "14651cb3-9d4d-4209-b79f-c32e9a2a9e34",
   "metadata": {},
   "source": [
    "## Vector Operations"
   ]
  },
  {
   "cell_type": "code",
   "execution_count": 36,
   "id": "56b890f6-fe0b-4cbd-b302-7ab24b4a1611",
   "metadata": {},
   "outputs": [
    {
     "name": "stdout",
     "output_type": "stream",
     "text": [
      "[1 2 3 4]\n",
      "[-1 -2 -3 -4]\n",
      "10\n",
      "2.5\n",
      "[ 1  4  9 16]\n",
      "[ 5 10 15 20]\n"
     ]
    }
   ],
   "source": [
    "x = np.array([1, 2, 3, 4])\n",
    "print(x)\n",
    "\n",
    "negated = -x\n",
    "print(negated)\n",
    "\n",
    "the_sum = np.sum(x)\n",
    "print(the_sum)\n",
    "\n",
    "the_mean = np.mean(x)\n",
    "print(the_mean)\n",
    "\n",
    "squared = x**2\n",
    "print(squared)\n",
    "\n",
    "multiplied = 5 * x\n",
    "print(multiplied)"
   ]
  },
  {
   "cell_type": "markdown",
   "id": "8b748df5-a9fc-4d03-b4e9-93533a75608e",
   "metadata": {},
   "source": [
    "### Element-wise operations"
   ]
  },
  {
   "cell_type": "code",
   "execution_count": 54,
   "id": "bca79439-bcac-45a1-bbde-19fe4d5df32d",
   "metadata": {},
   "outputs": [
    {
     "name": "stdout",
     "output_type": "stream",
     "text": [
      "\n",
      "Element-wise addition: [1 3 5 7]\n",
      "\n",
      "Vectors of different lengths fail with exception: operands could not be broadcast together with shapes (4,) (3,) \n"
     ]
    }
   ],
   "source": [
    "v1 = np.array([1, 2, 3, 4])\n",
    "v2 = np.array([-1, 4, 3, 2])\n",
    "added = a + b\n",
    "print(f\"\\nElement-wise addition: {added}\")\n",
    "\n",
    "\n",
    "try:\n",
    "    v3 = np.array([2, 3, 4])\n",
    "    mismatch = a + d\n",
    "except Exception as e:\n",
    "    print(f\"\\nVectors of different lengths fail with exception: {e}\")\n",
    "    "
   ]
  },
  {
   "cell_type": "markdown",
   "id": "bbf73d30-8f18-44e1-b556-e908b1c0f821",
   "metadata": {},
   "source": [
    "#### Sequential Dot Product Calculation(slow)"
   ]
  },
  {
   "cell_type": "code",
   "execution_count": 56,
   "id": "a0ef591e-c2ce-4c26-a7a5-713c659b928e",
   "metadata": {},
   "outputs": [
    {
     "name": "stdout",
     "output_type": "stream",
     "text": [
      "24\n"
     ]
    }
   ],
   "source": [
    "def sequential_dot_product(a, b):\n",
    "    dot_product = 0\n",
    "\n",
    "    for i in range(a.shape[0]):\n",
    "        dot_product += a[i] * b[i]\n",
    "\n",
    "    return dot_product\n",
    "\n",
    "sequential_result = sequential_dot_product(v1, v2)\n",
    "print(sequential_result)"
   ]
  },
  {
   "cell_type": "markdown",
   "id": "796cbd65-6bae-4744-b75b-50b2c2513637",
   "metadata": {},
   "source": [
    "#### Parallelized Dot Product Calculation (fast)"
   ]
  },
  {
   "cell_type": "code",
   "execution_count": 62,
   "id": "27c0b6e5-96b7-4903-bac0-a38ad9f377ea",
   "metadata": {},
   "outputs": [
    {
     "name": "stdout",
     "output_type": "stream",
     "text": [
      "24\n",
      "24\n"
     ]
    }
   ],
   "source": [
    "parallelized_result = np.dot(v1, v2)\n",
    "print(parallelized_result)\n",
    "\n",
    "reversed_result = np.dot(v2, v1)\n",
    "print(reversed_result)\n",
    "\n",
    "assert sequential_result == parallelized_result\n",
    "assert parallelized_result == reversed_result"
   ]
  },
  {
   "cell_type": "markdown",
   "id": "2ea96256-ab14-445c-9015-c03d5aa5e609",
   "metadata": {},
   "source": [
    "#### Speed comparison of Sequential vs Parallelized Dot Product"
   ]
  },
  {
   "cell_type": "code",
   "execution_count": 66,
   "id": "7c6660f6-e81a-4043-8892-7c33d6056fdb",
   "metadata": {},
   "outputs": [
    {
     "name": "stdout",
     "output_type": "stream",
     "text": [
      "Sequential method consumed 1.4156959056854248 ms\n",
      "Parallelized method consumed 0.004889249801635742 ms\n"
     ]
    }
   ],
   "source": [
    "# Create very large arrays\n",
    "np.random.seed(1)\n",
    "v8 = np.random.rand(10000000)\n",
    "v9 = np.random.rand(10000000)\n",
    "\n",
    "# Run sequential method\n",
    "start1 = time.time()\n",
    "sequential = sequential_dot_product(v8, v9)\n",
    "end1 = time.time()\n",
    "print(f\"Sequential method consumed {end1 - start1} ms\")\n",
    "\n",
    "# Run parallelized method\n",
    "start2 = time.time()\n",
    "parallelized = np.dot(v8, v9)\n",
    "end2 = time.time()\n",
    "print(f\"Parallelized method consumed {end2 - start2} ms\")\n",
    "\n",
    "# Tear Down\n",
    "del(v8)\n",
    "del(v9)"
   ]
  },
  {
   "cell_type": "markdown",
   "id": "a5dd856a-7746-4fe6-a28f-a4340a288b64",
   "metadata": {},
   "source": [
    "## Matrices\n",
    "* NumPy uses brackets to denote each dimension.\n",
    "* When printing, NumPy prints one row per line.\n",
    "* By convention: m = number of rows = count of training examples\n",
    "* By convention: n = number of columns = count of features/variables"
   ]
  },
  {
   "cell_type": "code",
   "execution_count": 80,
   "id": "a42a44b3-ce66-4047-895d-fe573529e5d5",
   "metadata": {},
   "outputs": [
    {
     "name": "stdout",
     "output_type": "stream",
     "text": [
      "\n",
      "matrix1: [[0. 0. 0. 0. 0.]]\n",
      "shape: (1, 5)\n",
      "\n",
      "matrix2: [[0.]\n",
      " [0.]\n",
      " [0.]]\n",
      "shape: (3, 1)\n",
      "\n",
      "matrix3: [[0.]]\n",
      "shape: (1, 1)\n"
     ]
    }
   ],
   "source": [
    "matrix1 = np.zeros((1, 5))\n",
    "print(f\"\\nmatrix1: {matrix1}\\nshape: {matrix1.shape}\")\n",
    "\n",
    "matrix2 = np.zeros((3, 1))\n",
    "print(f\"\\nmatrix2: {matrix2}\\nshape: {matrix2.shape}\")\n",
    "\n",
    "matrix3 = np.zeros((1, 1))\n",
    "print(f\"\\nmatrix3: {matrix3}\\nshape: {matrix3.shape}\")"
   ]
  },
  {
   "cell_type": "code",
   "execution_count": 84,
   "id": "108e0416-e8d5-4283-bb70-2e978e487236",
   "metadata": {},
   "outputs": [
    {
     "name": "stdout",
     "output_type": "stream",
     "text": [
      "\n",
      "matrix4: [[5]\n",
      " [4]\n",
      " [3]]\n",
      "shape: (3, 1)\n"
     ]
    }
   ],
   "source": [
    "manual_matrix = np.array([[5], [4], [3]])\n",
    "print(f\"\\nmatrix4: {manual_matrix}\\nshape: {manual_matrix.shape}\")"
   ]
  },
  {
   "cell_type": "markdown",
   "id": "b9105519-5dce-484a-bba9-a920cc1bcc89",
   "metadata": {},
   "source": [
    "### Reshaping Matrices"
   ]
  },
  {
   "cell_type": "code",
   "execution_count": 91,
   "id": "a6457892-ad5b-460b-99ae-996d4d20e4df",
   "metadata": {},
   "outputs": [
    {
     "name": "stdout",
     "output_type": "stream",
     "text": [
      "\n",
      "\n",
      "[0 1 2 3 4 5]\n",
      "\n",
      "\n",
      "[[0 1]\n",
      " [2 3]\n",
      " [4 5]]\n",
      "\n",
      "\n",
      "[[0 1]\n",
      " [2 3]\n",
      " [4 5]]\n"
     ]
    }
   ],
   "source": [
    "one_dimension = np.arange(6)\n",
    "print(\"\\n\")\n",
    "print(one_dimension)\n",
    "\n",
    "# Reshape from 1D to 2D, specify both the number of rows and cols\n",
    "two_dimensions_both_specified = one_dimension.reshape(3, 2)\n",
    "print(\"\\n\")\n",
    "print(two_dimensions_both_specified)\n",
    "\n",
    "# Reshape from 1D to 2D, specify only 1 dimension, use -1 to autocompute the other dimension\n",
    "two_dimensions_one_specified = one_dimension.reshape(-1, 2)\n",
    "print(\"\\n\")\n",
    "print(two_dimensions_one_specified)\n"
   ]
  },
  {
   "cell_type": "markdown",
   "id": "e238694a-2ecd-49e6-a420-1030cb39c1d4",
   "metadata": {},
   "source": [
    "### Slicing Matrices"
   ]
  },
  {
   "cell_type": "code",
   "execution_count": 96,
   "id": "828546a0-9493-4dc7-9f3a-c66d0e960179",
   "metadata": {},
   "outputs": [
    {
     "name": "stdout",
     "output_type": "stream",
     "text": [
      "\n",
      "original vector: [[ 0  1  2  3  4  5  6  7  8  9]\n",
      " [10 11 12 13 14 15 16 17 18 19]]; \n",
      "shape: (2, 10)\n",
      "\n",
      "all elements: [[ 0  1  2  3  4  5  6  7  8  9]\n",
      " [10 11 12 13 14 15 16 17 18 19]]; \n",
      "shape: (2, 10)\n",
      "\n",
      "row1: [10 11 12 13 14 15 16 17 18 19]; \n",
      "shape: (10,)\n",
      "\n",
      "col1: [ 1 11]; \n",
      "shape: (2,)\n",
      "\n",
      "portion: [14 15 16]; \n",
      "shape: (3,)\n",
      "\n",
      "block: [[ 4  5  6]\n",
      " [14 15 16]]; \n",
      "shape: (2, 3)\n"
     ]
    }
   ],
   "source": [
    "vector5 = np.arange(20).reshape(-1, 10)\n",
    "print(f\"\\noriginal vector: {vector5}; \\nshape: {vector5.shape}\")\n",
    "\n",
    "# Access all elements\n",
    "all_elements = vector5[:, :]\n",
    "print(f\"\\nall elements: {all_elements}; \\nshape: {all_elements.shape}\")\n",
    "\n",
    "# Access a single row\n",
    "row1 = vector5[1,:] # this is equivalent to vector5[1]\n",
    "print(f\"\\nrow1: {row1}; \\nshape: {row1.shape}\")\n",
    "\n",
    "# Access a single column\n",
    "col1 = vector5[:,1]\n",
    "print(f\"\\ncol1: {col1}; \\nshape: {col1.shape}\")\n",
    "\n",
    "# Access one part of a row\n",
    "portion = vector5[1, 4:7]\n",
    "print(f\"\\nportion: {portion}; \\nshape: {portion.shape}\")\n",
    "\n",
    "# Access a block from within the matrix\n",
    "block = vector5[0:2,4:7]\n",
    "print(f\"\\nblock: {block}; \\nshape: {block.shape}\")"
   ]
  }
 ],
 "metadata": {
  "kernelspec": {
   "display_name": "Python [conda env:base] *",
   "language": "python",
   "name": "conda-base-py"
  },
  "language_info": {
   "codemirror_mode": {
    "name": "ipython",
    "version": 3
   },
   "file_extension": ".py",
   "mimetype": "text/x-python",
   "name": "python",
   "nbconvert_exporter": "python",
   "pygments_lexer": "ipython3",
   "version": "3.12.7"
  }
 },
 "nbformat": 4,
 "nbformat_minor": 5
}
